{
 "cells": [
  {
   "cell_type": "code",
   "execution_count": 1,
   "id": "2eeccc78-efae-4b21-9802-99cde1385a48",
   "metadata": {},
   "outputs": [
    {
     "name": "stdout",
     "output_type": "stream",
     "text": [
      "    ID Marque / Modele  Bonus / Malus  Rejets CO2 g/km  Cout energie\n",
      "0    1            AUDI         7214.0             26.0         192.0\n",
      "1    2         BENTLEY         8024.0             84.0         102.0\n",
      "2    3             BMW         7811.0             39.0          81.0\n",
      "3    4         CITROEN         6000.0              0.0         347.0\n",
      "4    5              DS         7012.0             16.0         159.0\n",
      "5    6         HYUNDAI         6675.0              9.0         151.0\n",
      "6    7          JAGUAR         6000.0              0.0         271.0\n",
      "7    8             KIA         6675.0             10.0         158.0\n",
      "8    9            LAND         8024.0             69.0          78.0\n",
      "9   10        MERCEDES         8348.0            188.0         750.0\n",
      "10  11            MINI         7012.0             22.0         126.0\n",
      "11  12      MITSUBISHI         8024.0             40.0          98.0\n",
      "12  13          NISSAN         8202.0            160.0         681.0\n",
      "13  14         PEUGEOT         7012.0             16.0         144.0\n",
      "14  15         PORSCHE         8024.0             70.0          90.0\n",
      "15  16         RENAULT         6000.0              0.0         206.0\n",
      "16  17           SKODA         7799.0             28.0          99.0\n",
      "17  18           SMART         6000.0              0.0         191.0\n",
      "18  19           TESLA         6000.0              0.0         246.0\n",
      "19  20          TOYOTA         8024.0             32.0          43.0\n",
      "20  21      VOLKSWAGEN         7446.0             23.0          96.0\n",
      "21  22           VOLVO         8024.0             42.0          73.0\n"
     ]
    }
   ],
   "source": [
    "import pandas as pd\n",
    "\n",
    "# Load your CSV files into Pandas DataFrames\n",
    "df1 = pd.read_csv('./CO2.csv', encoding='latin1', usecols=lambda x: x != 0)\n",
    "\n",
    "df1['Marque / Modele'] = df1['Marque / Modele'].str.split().str[0].str.replace('\"', '')\n",
    "df1['Bonus / Malus'] = pd.to_numeric(df1['Bonus / Malus'].replace('[^\\d]+', '', regex=True).str.rstrip(' 1'))\n",
    "df1['Cout enerie'] = pd.to_numeric(df1['Cout enerie'].replace('[^\\d]+', '', regex=True))\n",
    "df1['Marque / Modele'] = df1['Marque / Modele'].str.split().str[0].str.upper()\n",
    "\n",
    "# Calculate the average of 'Rejets CO2 g/km' for every distinct 'Marque' in df1\n",
    "average_co2_by_marque = round(df1.groupby('Marque / Modele')['Rejets CO2 g/km'].transform('mean'),0)\n",
    "\n",
    "# Replace 'Rejets CO2 g/km' column with the average values\n",
    "df1['Rejets CO2 g/km'] = average_co2_by_marque\n",
    "\n",
    "# Fill empty values in 'Bonus / Malus' column with the average\n",
    "average_bonus_malus = round(df1['Bonus / Malus'].mean(), 0)\n",
    "df1['Bonus / Malus'].fillna(average_bonus_malus, inplace=True)\n",
    "\n",
    "# Fill empty values in 'Bonus / Malus' column with the average\n",
    "average_bonus_malus = round(df1['Bonus / Malus'].mean(), 0)\n",
    "df1['Bonus / Malus'].fillna(average_bonus_malus, inplace=True)\n",
    "\n",
    "df1.rename(columns={'Cout enerie': 'Cout energie'}, inplace=True)\n",
    "\n",
    "# Drop the first column (assuming it is unnamed)\n",
    "df1 = df1.iloc[:, 1:]\n",
    "\n",
    "df3 = df1.groupby('Marque / Modele', as_index=False).mean().round()\n",
    "\n",
    "# Add index starting from 1\n",
    "df3['ID'] = df3.index + 1\n",
    "\n",
    "# Rearrange the columns to have \"ID\" as the first column\n",
    "cols = list(df3.columns)\n",
    "cols = ['ID'] + [col for col in cols if col != 'ID']\n",
    "df3 = df3[cols]\n",
    "\n",
    "print(df3)\n",
    "\n",
    "# Save the result DataFrame to a new CSV file\n",
    "df3.to_csv('cleaned_CO2.csv', index=False)"
   ]
  },
  {
   "cell_type": "code",
   "execution_count": null,
   "id": "eeaf2b2a-18bd-4260-9bd9-ab305248e95f",
   "metadata": {},
   "outputs": [],
   "source": []
  }
 ],
 "metadata": {
  "kernelspec": {
   "display_name": "Python 3 (ipykernel)",
   "language": "python",
   "name": "python3"
  },
  "language_info": {
   "codemirror_mode": {
    "name": "ipython",
    "version": 3
   },
   "file_extension": ".py",
   "mimetype": "text/x-python",
   "name": "python",
   "nbconvert_exporter": "python",
   "pygments_lexer": "ipython3",
   "version": "3.9.18"
  }
 },
 "nbformat": 4,
 "nbformat_minor": 5
}
