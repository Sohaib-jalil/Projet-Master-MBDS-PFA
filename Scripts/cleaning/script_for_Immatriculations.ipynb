{
 "cells": [
  {
   "cell_type": "code",
   "execution_count": 7,
   "id": "94cd8808-cab8-4393-b6e7-8558e4019877",
   "metadata": {},
   "outputs": [],
   "source": [
    "import pandas as pd\n",
    "\n",
    "# Read the CSV file\n",
    "df = pd.read_csv('./Immatriculations.csv', encoding='latin1')\n",
    "\n",
    "df['longueur'] = df['longueur'].str.replace(\"très longue\", \"tres longue\")\n",
    "\n",
    "# Filter rows based on immatriculation format\n",
    "pattern = r'^\\d{4}\\s[A-Z]{2}\\s\\d{2}$'\n",
    "df = df[df['immatriculation'].str.match(pattern, na=False)]\n",
    "\n",
    "# Delete one of the duplicate rows while keeping the first occurrence\n",
    "df = df.drop_duplicates(subset=['immatriculation'], keep='first')\n",
    "\n",
    "# Set the 'ID' column using a different method\n",
    "df.insert(0, 'ID', range(1, len(df) + 1))\n",
    "\n",
    "# Save the result DataFrame to a new CSV file\n",
    "df.to_csv('cleaned_Immatriculations.csv', index=False)"
   ]
  },
  {
   "cell_type": "code",
   "execution_count": null,
   "id": "d4ce854d-40ae-4690-a747-6c9c4f8a4ca0",
   "metadata": {},
   "outputs": [],
   "source": []
  }
 ],
 "metadata": {
  "kernelspec": {
   "display_name": "Python 3 (ipykernel)",
   "language": "python",
   "name": "python3"
  },
  "language_info": {
   "codemirror_mode": {
    "name": "ipython",
    "version": 3
   },
   "file_extension": ".py",
   "mimetype": "text/x-python",
   "name": "python",
   "nbconvert_exporter": "python",
   "pygments_lexer": "ipython3",
   "version": "3.9.18"
  }
 },
 "nbformat": 4,
 "nbformat_minor": 5
}
