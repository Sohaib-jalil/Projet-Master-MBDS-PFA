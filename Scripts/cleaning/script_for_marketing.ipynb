{
 "cells": [
  {
   "cell_type": "code",
   "execution_count": 2,
   "id": "33e6ebde-21c3-4c3a-8cf0-cba36b497753",
   "metadata": {},
   "outputs": [],
   "source": [
    "import pandas as pd\n",
    "\n",
    "# Read the CSV file\n",
    "df = pd.read_csv('./Marketing.csv', encoding='latin1')\n",
    "\n",
    "df['situationFamiliale'] = df['situationFamiliale'].replace('Célibataire', 'Celibataire')\n",
    "\n",
    "# Add index starting from 1\n",
    "df['ID'] = df.index + 1\n",
    "\n",
    "# Rearrange the columns to have \"ID\" as the first column\n",
    "cols = list(df.columns)\n",
    "cols = ['ID'] + [col for col in cols if col != 'ID']\n",
    "df = df[cols]\n",
    "\n",
    "df.rename(columns={'2eme voiture': 'deuxiemeVoiture'}, inplace=True)\n",
    "\n",
    "df['deuxiemeVoiture'] = df['deuxiemeVoiture'].astype(bool)\n",
    "\n",
    "df.to_csv('Cleaned_Marketing.csv', index=False)"
   ]
  },
  {
   "cell_type": "code",
   "execution_count": null,
   "id": "faeeb564-39cb-48e8-951c-91c8dc79fa17",
   "metadata": {},
   "outputs": [],
   "source": []
  }
 ],
 "metadata": {
  "kernelspec": {
   "display_name": "Python 3 (ipykernel)",
   "language": "python",
   "name": "python3"
  },
  "language_info": {
   "codemirror_mode": {
    "name": "ipython",
    "version": 3
   },
   "file_extension": ".py",
   "mimetype": "text/x-python",
   "name": "python",
   "nbconvert_exporter": "python",
   "pygments_lexer": "ipython3",
   "version": "3.9.18"
  }
 },
 "nbformat": 4,
 "nbformat_minor": 5
}
