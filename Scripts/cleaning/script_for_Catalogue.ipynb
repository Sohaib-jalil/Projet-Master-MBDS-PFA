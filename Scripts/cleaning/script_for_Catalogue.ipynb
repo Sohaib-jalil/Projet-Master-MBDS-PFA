{
 "cells": [
  {
   "cell_type": "code",
   "execution_count": 1,
   "id": "1b56c93c-8386-4e1b-9ca3-8297cb529d2f",
   "metadata": {},
   "outputs": [],
   "source": [
    "import pandas as pd\n",
    "\n",
    "# Load your CSV files into Pandas DataFrames\n",
    "df = pd.read_csv('./Catalogue.csv', encoding='latin1')\n",
    "\n",
    "df['marque'] = df['marque'].str.replace(\"Hyundaï\", \"Hyundai\")\n",
    "df['marque'] = df['marque'].str.upper()\n",
    "df['longueur'] = df['longueur'].str.replace(\"très longue\", \"tres longue\")\n",
    "\n",
    "# Add index starting from 1\n",
    "df['ID'] = df.index + 1\n",
    "\n",
    "# Rearrange the columns to have \"ID\" as the first column\n",
    "cols = list(df.columns)\n",
    "cols = ['ID'] + [col for col in cols if col != 'ID']\n",
    "df = df[cols]\n",
    "\n",
    "# Save the result DataFrame to a new CSV file\n",
    "df.to_csv('cleaned_Catalogue.csv', index=False)"
   ]
  },
  {
   "cell_type": "code",
   "execution_count": null,
   "id": "dcd2ac75-5cdb-4d64-ae2b-e3bc88f31660",
   "metadata": {},
   "outputs": [],
   "source": []
  }
 ],
 "metadata": {
  "kernelspec": {
   "display_name": "Python 3 (ipykernel)",
   "language": "python",
   "name": "python3"
  },
  "language_info": {
   "codemirror_mode": {
    "name": "ipython",
    "version": 3
   },
   "file_extension": ".py",
   "mimetype": "text/x-python",
   "name": "python",
   "nbconvert_exporter": "python",
   "pygments_lexer": "ipython3",
   "version": "3.9.18"
  }
 },
 "nbformat": 4,
 "nbformat_minor": 5
}
